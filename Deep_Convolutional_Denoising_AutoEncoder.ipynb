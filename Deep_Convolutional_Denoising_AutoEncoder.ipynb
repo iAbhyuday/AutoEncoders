{
  "nbformat": 4,
  "nbformat_minor": 0,
  "metadata": {
    "kernelspec": {
      "name": "python3",
      "display_name": "Python 3"
    },
    "language_info": {
      "codemirror_mode": {
        "name": "ipython",
        "version": 3
      },
      "file_extension": ".py",
      "mimetype": "text/x-python",
      "name": "python",
      "nbconvert_exporter": "python",
      "pygments_lexer": "ipython3",
      "version": "3.6.1"
    },
    "colab": {
      "name": "ConvAutoEncoder.ipynb",
      "provenance": []
    },
    "accelerator": "GPU"
  },
  "cells": [
    {
      "cell_type": "code",
      "metadata": {
        "id": "CzQ7ro5Ok4g5",
        "colab_type": "code",
        "colab": {}
      },
      "source": [
        "from tensorflow.keras.models import Model\n",
        "from PIL import Image"
      ],
      "execution_count": 0,
      "outputs": []
    },
    {
      "cell_type": "code",
      "metadata": {
        "id": "wZ9ck66mqAqS",
        "colab_type": "code",
        "outputId": "44f529fa-0122-4b93-ce3d-0ac97ae72bad",
        "colab": {
          "base_uri": "https://localhost:8080/",
          "height": 118
        }
      },
      "source": [
        "!cat ~/.keras/keras.json"
      ],
      "execution_count": 18,
      "outputs": [
        {
          "output_type": "stream",
          "text": [
            "{\n",
            "    \"epsilon\": 1e-07, \n",
            "    \"floatx\": \"float32\", \n",
            "    \"image_data_format\": \"channels_last\", \n",
            "    \"backend\": \"tensorflow\"\n",
            "}"
          ],
          "name": "stdout"
        }
      ]
    },
    {
      "cell_type": "code",
      "metadata": {
        "id": "qu1REzfIk4g1",
        "colab_type": "code",
        "colab": {}
      },
      "source": [
        "import numpy as np\n",
        "from tensorflow.keras.datasets import mnist\n",
        "from tensorflow.keras.layers import Conv2D,Dense,Flatten,Input,Conv2DTranspose,MaxPooling2D,UpSampling2D"
      ],
      "execution_count": 0,
      "outputs": []
    },
    {
      "cell_type": "code",
      "metadata": {
        "id": "IQDe7jM9k4g7",
        "colab_type": "code",
        "colab": {}
      },
      "source": [
        "img_x,img_y = 28,28"
      ],
      "execution_count": 0,
      "outputs": []
    },
    {
      "cell_type": "code",
      "metadata": {
        "id": "yKFfkKDRk4g9",
        "colab_type": "code",
        "colab": {}
      },
      "source": [
        "(x_train,y_train),(x_test,y_test) = mnist.load_data()"
      ],
      "execution_count": 0,
      "outputs": []
    },
    {
      "cell_type": "code",
      "metadata": {
        "id": "ETLLdMI1k4g_",
        "colab_type": "code",
        "outputId": "49429305-1958-481e-dc81-997d23b1338c",
        "colab": {
          "base_uri": "https://localhost:8080/",
          "height": 34
        }
      },
      "source": [
        "x_train = x_train.reshape(x_train.shape[0],img_x,img_y,1)\n",
        "x_train = x_train.astype('float32')\n",
        "x_train/=255\n",
        "x_train.shape\n",
        "\n",
        "x_test = x_test.reshape(x_test.shape[0],img_x,img_y,1)\n",
        "x_test = x_test.astype('float32')\n",
        "x_test/=255\n",
        "x_test.shape"
      ],
      "execution_count": 22,
      "outputs": [
        {
          "output_type": "execute_result",
          "data": {
            "text/plain": [
              "(10000, 28, 28, 1)"
            ]
          },
          "metadata": {
            "tags": []
          },
          "execution_count": 22
        }
      ]
    },
    {
      "cell_type": "code",
      "metadata": {
        "id": "Jg3yS3Hxk4hC",
        "colab_type": "code",
        "colab": {}
      },
      "source": [
        "#noise\n",
        "\n",
        "noise_factor = 0.4\n",
        "x_train_noisy = noise_factor*np.random.normal(size=x_train.shape) + x_train\n",
        "\n",
        "x_train_noisy = np.clip(x_train_noisy,0.,1.)\n",
        "x_test_noisy = noise_factor*np.random.normal(size=x_test.shape) + x_test\n",
        "x_test_noisy = np.clip(x_test_noisy,0.,1.)"
      ],
      "execution_count": 0,
      "outputs": []
    },
    {
      "cell_type": "code",
      "metadata": {
        "id": "vIYe_cifk4hE",
        "colab_type": "code",
        "colab": {}
      },
      "source": [
        "ins = (img_x,img_y,1)\n",
        "input_layer = Input(ins)"
      ],
      "execution_count": 0,
      "outputs": []
    },
    {
      "cell_type": "code",
      "metadata": {
        "id": "QM8_iqxJk4hG",
        "colab_type": "code",
        "colab": {}
      },
      "source": [
        "x = Conv2D(10,5,activation='relu')(input_layer)\n",
        "x = MaxPooling2D(2)(x)\n",
        "x = Conv2D(20,2,activation='relu')(x)\n",
        "x = MaxPooling2D(2)(x)\n",
        "encoded = x\n",
        "\n",
        "x = UpSampling2D(2)(x)\n",
        "x = Conv2DTranspose(20,2,activation='relu')(x)\n",
        "x = UpSampling2D(2)(x)\n",
        "x = Conv2DTranspose(10,5,activation='relu')(x)\n",
        "x = Conv2DTranspose(1,3,activation='sigmoid')(x)\n"
      ],
      "execution_count": 0,
      "outputs": []
    },
    {
      "cell_type": "code",
      "metadata": {
        "id": "NrcEtwDJk4hJ",
        "colab_type": "code",
        "outputId": "a3ee300d-78c7-4030-ebcb-4193831ce281",
        "colab": {
          "base_uri": "https://localhost:8080/",
          "height": 487
        }
      },
      "source": [
        "from tensorflow.keras import Model\n",
        "model = Model(input_layer,x)\n",
        "model.summary()"
      ],
      "execution_count": 26,
      "outputs": [
        {
          "output_type": "stream",
          "text": [
            "Model: \"model_1\"\n",
            "_________________________________________________________________\n",
            "Layer (type)                 Output Shape              Param #   \n",
            "=================================================================\n",
            "input_2 (InputLayer)         [(None, 28, 28, 1)]       0         \n",
            "_________________________________________________________________\n",
            "conv2d_2 (Conv2D)            (None, 24, 24, 10)        260       \n",
            "_________________________________________________________________\n",
            "max_pooling2d_2 (MaxPooling2 (None, 12, 12, 10)        0         \n",
            "_________________________________________________________________\n",
            "conv2d_3 (Conv2D)            (None, 11, 11, 20)        820       \n",
            "_________________________________________________________________\n",
            "max_pooling2d_3 (MaxPooling2 (None, 5, 5, 20)          0         \n",
            "_________________________________________________________________\n",
            "up_sampling2d_2 (UpSampling2 (None, 10, 10, 20)        0         \n",
            "_________________________________________________________________\n",
            "conv2d_transpose_3 (Conv2DTr (None, 11, 11, 20)        1620      \n",
            "_________________________________________________________________\n",
            "up_sampling2d_3 (UpSampling2 (None, 22, 22, 20)        0         \n",
            "_________________________________________________________________\n",
            "conv2d_transpose_4 (Conv2DTr (None, 26, 26, 10)        5010      \n",
            "_________________________________________________________________\n",
            "conv2d_transpose_5 (Conv2DTr (None, 28, 28, 1)         91        \n",
            "=================================================================\n",
            "Total params: 7,801\n",
            "Trainable params: 7,801\n",
            "Non-trainable params: 0\n",
            "_________________________________________________________________\n"
          ],
          "name": "stdout"
        }
      ]
    },
    {
      "cell_type": "code",
      "metadata": {
        "id": "X7TeIo8sk4hL",
        "colab_type": "code",
        "colab": {}
      },
      "source": [
        "model.compile(optimizer='adam',loss='binary_crossentropy',metrics=['acc'])"
      ],
      "execution_count": 0,
      "outputs": []
    },
    {
      "cell_type": "code",
      "metadata": {
        "id": "yQOx-AHOk4hN",
        "colab_type": "code",
        "outputId": "fc1863ed-2767-403f-a4c5-875af4e4f1a4",
        "colab": {
          "base_uri": "https://localhost:8080/",
          "height": 370
        }
      },
      "source": [
        "history=model.fit(x_train_noisy,x_train,batch_size=32,epochs=10,validation_data=(x_test_noisy,x_test))"
      ],
      "execution_count": 38,
      "outputs": [
        {
          "output_type": "stream",
          "text": [
            "Train on 60000 samples, validate on 10000 samples\n",
            "Epoch 1/10\n",
            "60000/60000 [==============================] - 9s 151us/sample - loss: 0.0899 - acc: 0.8142 - val_loss: 0.0892 - val_acc: 0.8133\n",
            "Epoch 2/10\n",
            "60000/60000 [==============================] - 9s 147us/sample - loss: 0.0896 - acc: 0.8142 - val_loss: 0.0891 - val_acc: 0.8133\n",
            "Epoch 3/10\n",
            "60000/60000 [==============================] - 9s 144us/sample - loss: 0.0894 - acc: 0.8142 - val_loss: 0.0887 - val_acc: 0.8133\n",
            "Epoch 4/10\n",
            "60000/60000 [==============================] - 9s 148us/sample - loss: 0.0892 - acc: 0.8142 - val_loss: 0.0885 - val_acc: 0.8132\n",
            "Epoch 5/10\n",
            "60000/60000 [==============================] - 9s 146us/sample - loss: 0.0891 - acc: 0.8143 - val_loss: 0.0884 - val_acc: 0.8133\n",
            "Epoch 6/10\n",
            "60000/60000 [==============================] - 9s 144us/sample - loss: 0.0890 - acc: 0.8143 - val_loss: 0.0883 - val_acc: 0.8133\n",
            "Epoch 7/10\n",
            "60000/60000 [==============================] - 9s 146us/sample - loss: 0.0888 - acc: 0.8143 - val_loss: 0.0882 - val_acc: 0.8133\n",
            "Epoch 8/10\n",
            "60000/60000 [==============================] - 9s 146us/sample - loss: 0.0888 - acc: 0.8143 - val_loss: 0.0881 - val_acc: 0.8133\n",
            "Epoch 9/10\n",
            "60000/60000 [==============================] - 9s 144us/sample - loss: 0.0887 - acc: 0.8143 - val_loss: 0.0883 - val_acc: 0.8133\n",
            "Epoch 10/10\n",
            "60000/60000 [==============================] - 9s 145us/sample - loss: 0.0886 - acc: 0.8143 - val_loss: 0.0880 - val_acc: 0.8132\n"
          ],
          "name": "stdout"
        }
      ]
    },
    {
      "cell_type": "code",
      "metadata": {
        "id": "FZgSaZRFk4hP",
        "colab_type": "code",
        "colab": {
          "base_uri": "https://localhost:8080/",
          "height": 295
        },
        "outputId": "6476777a-35c2-4005-e7b4-f2e0b9f9674b"
      },
      "source": [
        "plt.plot(history.history['loss'], label='MAE (testing data)')\n",
        "plt.plot(history.history['val_loss'], label='MAE (validation data)')\n",
        "plt.title('MAE for Chennai Reservoir Levels')\n",
        "plt.ylabel('MAE value')\n",
        "plt.xlabel('No. epoch')\n",
        "plt.legend(loc=\"upper left\")\n",
        "plt.show()"
      ],
      "execution_count": 42,
      "outputs": [
        {
          "output_type": "display_data",
          "data": {
            "image/png": "[encoded data removed]",
            "text/plain": [
              "<Figure size 432x288 with 1 Axes>"
            ]
          },
          "metadata": {
            "tags": []
          }
        }
      ]
    },
    {
      "cell_type": "code",
      "metadata": {
        "id": "znl9grmYlWhC",
        "colab_type": "code",
        "outputId": "ce3f602d-c85c-4c6f-9676-b649ec520d8f",
        "colab": {
          "base_uri": "https://localhost:8080/",
          "height": 530
        }
      },
      "source": [
        "from PIL import Image\n",
        "import matplotlib.pyplot as plt\n",
        "sam = x_test_noisy[1402]\n",
        "pred = model.predict(np.array([sam]))\n",
        "pred = pred.reshape(28,28)\n",
        "pred = np.array(pred*255,dtype=np.uint8)\n",
        "plt.imshow(pred)\n",
        "plt.show()\n",
        "\n",
        "sam = np.array((sam*255),dtype=np.uint8)\n",
        "\n",
        "im = Image.fromarray(sam.reshape((28,28)))\n",
        "im.save('in.png')\n",
        "\n",
        "#im.shape\n",
        "plt.imshow(sam.reshape((28,28)))\n",
        "plt.show()\n",
        "sam.shape"
      ],
      "execution_count": 43,
      "outputs": [
        {
          "output_type": "display_data",
          "data": {
            "image/png": "[encoded data removed]",
            "text/plain": [
              "<Figure size 432x288 with 1 Axes>"
            ]
          },
          "metadata": {
            "tags": []
          }
        },
        {
          "output_type": "display_data",
          "data": {
            "image/png": "[encoded data removed]",
            "text/plain": [
              "<Figure size 432x288 with 1 Axes>"
            ]
          },
          "metadata": {
            "tags": []
          }
        },
        {
          "output_type": "execute_result",
          "data": {
            "text/plain": [
              "(28, 28, 1)"
            ]
          },
          "metadata": {
            "tags": []
          },
          "execution_count": 43
        }
      ]
    }
  ]
}